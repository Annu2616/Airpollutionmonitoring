import pandas as pd
import numpy as np
import matplotlib.pyplot as plt
%matplotlib inline
import seaborn as sns
import datetime 
import matplotlib.dates as md
df=pd.read_csv('pollution.csv')
df.head()
created_at	entry_id	Chadni Chowk	Gariahat	Dharmatala
0	26-10-2017 07:59	167601.0	2.562637	3.015531	2.758462
1	26-10-2017 08:00	167602.0	2.565861	3.016337	2.761685
2	26-10-2017 08:00	167603.0	2.569890	3.019560	2.764103
3	26-10-2017 08:01	167604.0	2.573114	3.019560	2.766520
4	26-10-2017 08:02	167605.0	2.576337	3.019560	2.768132
df.drop("entry_id",axis=1,inplace=True)
df.head()
created_at	Chadni Chowk	Gariahat	Dharmatala
0	26-10-2017 07:59	2.562637	3.015531	2.758462
1	26-10-2017 08:00	2.565861	3.016337	2.761685
2	26-10-2017 08:00	2.569890	3.019560	2.764103
3	26-10-2017 08:01	2.573114	3.019560	2.766520
4	26-10-2017 08:02	2.576337	3.019560	2.768132
 #finding out the time when max. pollution occurs at Chadni Chowk
df[df['Chadni Chowk']==3.0235897439999997].drop(['Gariahat','Dharmatala'],axis=1)
created_at	Chadni Chowk
297	26-10-2017 10:53	3.02359
 #finding out the time when max. pollution occurs at Gariahat
df[df['Gariahat']==3.0235897439999997].drop(['Chadni Chowk','Dharmatala'],axis=1)
created_at	Gariahat
97	26-10-2017 09:11	3.02359
397	26-10-2017 12:14	3.02359
 #finding out the time when max. pollution occurs at Dharmatala
df[df['Dharmatala']==3.0235897439999997].drop(['Chadni Chowk','Gariahat'],axis=1)
created_at	Dharmatala
297	26-10-2017 10:53	3.02359
#finding out pollution level at Chadni Chowk by hourly update
plt.figure(figsize=(12,8))
plt.rcParams.update({'font.size':15})
x =pd.to_datetime(df['created_at'])
y=df['Chadni Chowk']
plt.plot_date(x, y)
plt.xlabel("Data & Hour")
plt.ylabel("Pollution Level")
plt.title("Hourly Pollution Level at Chadni Chowk")
<matplotlib.text.Text at 0x2004d67be48>

#finding out pollution level at Gariahat by hourly update
plt.figure(figsize=(12,8))
plt.rcParams.update({'font.size':15})
x =pd.to_datetime(df['created_at'])
y=df['Gariahat']
plt.plot_date(x, y,color='green')
plt.xlabel("Data & Hour")
plt.ylabel("Pollution Level")
plt.title("Hourly Pollution Level at Gariahat")
<matplotlib.text.Text at 0x2004b2a03c8>

#finding out pollution level at Dharmatala by hourly update
plt.figure(figsize=(12,8))
plt.rcParams.update({'font.size':15})
x =pd.to_datetime(df['created_at'])
y=df['Dharmatala']
plt.plot_date(x, y,color='red')
plt.xlabel("Data & Hour")
plt.ylabel("Pollution Level")
plt.title("Hourly Pollution Level at Dharmatala")
<matplotlib.text.Text at 0x2004b964208>

#pairplotting
sns.set(font_scale=1.5)
g=sns.pairplot(df,hue="Chadni Chowk")
g.fig.set_size_inches(15,15)

sns.jointplot(x="Chadni Chowk",y="Gariahat",data=df,color='green')
<seaborn.axisgrid.JointGrid at 0x20085244fd0>

sns.jointplot(x="Chadni Chowk",y="Dharmatala",data=df,color='red')
<seaborn.axisgrid.JointGrid at 0x20085244e80>

sns.jointplot(x="Dharmatala",y="Gariahat",data=df,color='k')
<seaborn.axisgrid.JointGrid at 0x20086eec668>
